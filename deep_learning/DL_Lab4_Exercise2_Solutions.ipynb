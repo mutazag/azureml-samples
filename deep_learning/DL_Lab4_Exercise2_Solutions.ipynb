{
  "cells": [
    {
      "cell_type": "markdown",
      "metadata": {
        "id": "slVkfZECGYuE"
      },
      "source": [
        "# Transfer Learning and Fine-Tuning\n",
        "\n",
        "\n",
        "---\n",
        "\n",
        "In this second exercise, we will learn how to apply fine-tuning on a model which is just an extension of transfer learning.\n",
        "\n",
        "This exercise is split in several parts:\n",
        "1.   Loading and Exploring Dataset\n",
        "2.   Preparing Dataset\n",
        "3.   Defining the Architecture of CNN\n",
        "4.   Training and Evaluation of the Model\n",
        "5.   Analysing the Results"
      ]
    },
    {
      "cell_type": "markdown",
      "metadata": {
        "id": "UEKwxPVBF4Kd"
      },
      "source": [
        "# Predicting cats versus dogs (binary classification)\n",
        "\n",
        "## Dataset \n",
        "\n",
        "The dataset we will be using is the Cats vs Dogs.\n",
        "\n",
        "The data was originally shared by Microsoft in 2017.\n",
        "\n",
        "Each observation is a color image representing either a dog or a cat..\n",
        "\n",
        "The original dataset is avalaible here: [cats vs dogs](https://storage.googleapis.com/mledu-datasets/cats_and_dogs_filtered.zip)\n",
        "\n",
        "\n",
        "## Objective\n",
        "\n",
        "Our goal is to use a pre-trained Convolution Neural Network model and assess its performance then we will fine-tune it and see the impact. \n",
        "\n",
        "## Instructions\n",
        "\n",
        "This is a guided exercise where some of the code have already been pre-defined. Your task is to fill the remaining part of the code (it will be highlighted with placehoders) to train and evaluate your model.\n",
        "\n",
        "This exercise is split in several parts:\n",
        "1.   Loading and Exploration of the Dataset\n",
        "2.   Preparing the Dataset\n",
        "3.   Load a pre-trained VGG16 model\n",
        "4.   Training and Evaluation of the VGG16 model"
      ]
    },
    {
      "cell_type": "markdown",
      "metadata": {
        "id": "z1uxFpFNZgj-"
      },
      "source": [
        "## Exercise 1 Solution"
      ]
    },
    {
      "cell_type": "markdown",
      "metadata": {
        "id": "JX32wNTnZn2M"
      },
      "source": [
        "### 1. Loading and exploring the Dataset"
      ]
    },
    {
      "cell_type": "markdown",
      "metadata": {
        "id": "TYx1x5OKCa2W"
      },
      "source": [
        "**[1.1]** \n",
        "First we need to download locally the zip file from the link provided earlier. We will be using the [get_file](https://www.tensorflow.org/api_docs/python/tf/keras/utils/get_file) method from Tensorflow. The result of this method is the directory where the file has been downloaded.\n",
        "\n",
        "##### Task: import tensorflow and download the dataset locally"
      ]
    },
    {
      "cell_type": "code",
      "execution_count": null,
      "metadata": {
        "id": "8rlRtw82Ca2W"
      },
      "outputs": [],
      "source": [
        "import tensorflow as tf\n",
        "# Placeholder for student's code (3 lines of code)\n",
        "# Task: import tensorflow and download the dataset locally"
      ]
    },
    {
      "cell_type": "code",
      "execution_count": null,
      "metadata": {},
      "outputs": [
        {
          "data": {
            "text/plain": [
              "'2.8.0'"
            ]
          },
          "execution_count": 8,
          "metadata": {},
          "output_type": "execute_result"
        }
      ],
      "source": [
        "tf.version.VERSION"
      ]
    },
    {
      "cell_type": "code",
      "execution_count": null,
      "metadata": {},
      "outputs": [
        {
          "name": "stderr",
          "output_type": "stream",
          "text": [
            "2022/04/12 13:17:53 INFO mlflow.tracking.fluent: Experiment with name 'cats-and-dogs' does not exist. Creating a new experiment.\n",
            "2022/04/12 13:17:55 INFO mlflow.tracking.fluent: Autologging successfully enabled for tensorflow.\n"
          ]
        }
      ],
      "source": [
        "import mlflow\n",
        "mlflow.set_experiment('cats-and-dogs')\n",
        "mlflow.autolog()"
      ]
    },
    {
      "cell_type": "code",
      "execution_count": null,
      "metadata": {
        "colab": {
          "base_uri": "https://localhost:8080/",
          "height": 87
        },
        "id": "b4YDJ6ztCa2a",
        "outputId": "608674dd-c921-4f9b-dd93-a69944a61d53"
      },
      "outputs": [
        {
          "name": "stdout",
          "output_type": "stream",
          "text": [
            "['train', 'validation', 'vectorize.py']\n"
          ]
        }
      ],
      "source": [
        "# SOLUTION\n",
        "# import tensorflow as tf\n",
        "# file_url = 'https://storage.googleapis.com/mledu-datasets/cats_and_dogs_filtered.zip'\n",
        "# zip_dir = tf.keras.utils.get_file('cats_and_dogs_filtered.zip', origin=file_url, extract=True)\n",
        "zip_dir =os.path.expanduser('~/cloudfiles/data/cats_and_dogs_filtered')\n",
        "import pathlib\n",
        "parent_dir = pathlib.Path(zip_dir)\n",
        "\n",
        "import os \n",
        "print(os.listdir(zip_dir))"
      ]
    },
    {
      "cell_type": "markdown",
      "metadata": {
        "id": "68PZH0iXCa2c"
      },
      "source": [
        "**[1.2]** \n"
      ]
    },
    {
      "cell_type": "markdown",
      "metadata": {
        "id": "MuQXi5eECa2i"
      },
      "source": [
        "**[1.3]** \n",
        "The images are already split into a 'train' and 'validation' folders under 'cats_and_dogs_filtered'\n",
        "\n",
        "##### Task: Create 2 variable called train_dir and test_dir that will contain the path to the 'train' and 'validation' folders"
      ]
    },
    {
      "cell_type": "code",
      "execution_count": null,
      "metadata": {
        "id": "Mph8HnGzCa2j"
      },
      "outputs": [],
      "source": [
        "# Placeholder for student's code (2 lines of code)\n",
        "# Task: Create 2 variable called train_dir and test_dir that will contain the path to the 'train' and 'validation' folders"
      ]
    },
    {
      "cell_type": "code",
      "execution_count": null,
      "metadata": {
        "id": "FONBvEU5Ca2m"
      },
      "outputs": [
        {
          "name": "stdout",
          "output_type": "stream",
          "text": [
            "/home/azureuser/cloudfiles/data/cats_and_dogs_filtered/train\n",
            "/home/azureuser/cloudfiles/data/cats_and_dogs_filtered/validation\n"
          ]
        }
      ],
      "source": [
        "train_dir = parent_dir / 'train'\n",
        "test_dir = parent_dir / 'validation'\n",
        "\n",
        "print(train_dir)\n",
        "print(test_dir)"
      ]
    },
    {
      "cell_type": "markdown",
      "metadata": {
        "id": "6TfftHwNCa2o"
      },
      "source": [
        "### 2.   Preparing the Dataset"
      ]
    },
    {
      "cell_type": "markdown",
      "metadata": {
        "id": "7SqmBlqPCa2p"
      },
      "source": [
        "**[2.1]** We first need to create an [ImageDataGenerator()](https://www.tensorflow.org/api_docs/python/tf/keras/preprocessing/image/ImageDataGenerator). This time we will not only normalise the images but we will also perform some data transformation: rescale=1./255, rotation_range=40, width_shift_range=0.1, height_shift_range=0.1, shear_range=0.2, zoom_range=0.2, horizontal_flip=True, fill_mode='nearest'\n",
        "\n",
        "##### Task: Import ImageDataGenerator and create an image generator for the training set"
      ]
    },
    {
      "cell_type": "code",
      "execution_count": null,
      "metadata": {
        "id": "P5L6Bwk9Ca2p"
      },
      "outputs": [],
      "source": [
        "# Placeholder for student's code (2 lines of code)\n",
        "# Task: Import ImageDataGenerator and create an image generator for the training set"
      ]
    },
    {
      "cell_type": "code",
      "execution_count": null,
      "metadata": {
        "id": "yeS9IGMJCa2r"
      },
      "outputs": [],
      "source": [
        "# SOLUTION\n",
        "from tensorflow.keras.preprocessing.image import ImageDataGenerator\n",
        "train_img_gen = ImageDataGenerator(rescale=1./255, rotation_range=40, width_shift_range=0.1, height_shift_range=0.1, shear_range=0.2, zoom_range=0.2, horizontal_flip=True, fill_mode='nearest')"
      ]
    },
    {
      "cell_type": "markdown",
      "metadata": {
        "id": "LFlC0sysCa2t"
      },
      "source": [
        "**[2.2]** Now we need to create the image data generator for the testing set\n",
        "\n",
        "##### Task: create an image generator for the testing set"
      ]
    },
    {
      "cell_type": "code",
      "execution_count": null,
      "metadata": {
        "id": "HMiljOxaCa2u"
      },
      "outputs": [],
      "source": [
        "# Placeholder for student's code (1 line of code)\n",
        "# Task: create an image generator for the testing set"
      ]
    },
    {
      "cell_type": "code",
      "execution_count": null,
      "metadata": {
        "id": "mk5NlNKwCa2w"
      },
      "outputs": [],
      "source": [
        "# SOLUTION\n",
        "test_img_gen = ImageDataGenerator(rescale=1./255)"
      ]
    },
    {
      "cell_type": "markdown",
      "metadata": {
        "id": "crFDtFLtCa2z"
      },
      "source": [
        "**[2.3]** Now we need to define the batch size for the data generators. For this dataset we will set it as 20.\n",
        "\n",
        "##### Task: create a variable containing the batch size value"
      ]
    },
    {
      "cell_type": "code",
      "execution_count": null,
      "metadata": {
        "id": "b2lUHZjcCa2z"
      },
      "outputs": [],
      "source": [
        "# Placeholder for student's code (1 line of code)\n",
        "# Task: create a variable containing the batch size value"
      ]
    },
    {
      "cell_type": "code",
      "execution_count": null,
      "metadata": {
        "id": "pboe7vOZCa21"
      },
      "outputs": [],
      "source": [
        "# SOLUTION\n",
        "batch_size=20"
      ]
    },
    {
      "cell_type": "markdown",
      "metadata": {
        "id": "iCabTNcSCa23"
      },
      "source": [
        "**[2.4]** Now we can define our data generator by specifying its input stream. For this dataset, we will use the method [.flow_from_directory()](https://www.tensorflow.org/api_docs/python/tf/keras/preprocessing/image/ImageDataGenerator#flow_from_directory) that reads images from folders directly.\n",
        "\n",
        "##### Task: create a data generator for the training set"
      ]
    },
    {
      "cell_type": "code",
      "execution_count": null,
      "metadata": {
        "id": "i7aVt4xSCa23"
      },
      "outputs": [],
      "source": [
        "# Placeholder for student's code (1 line of code)\n",
        "# Task: create a data generator for the training set"
      ]
    },
    {
      "cell_type": "code",
      "execution_count": null,
      "metadata": {
        "colab": {
          "base_uri": "https://localhost:8080/"
        },
        "id": "0acPRjeRCa25",
        "outputId": "0a528759-fd24-4a13-cceb-be0584a242f4"
      },
      "outputs": [
        {
          "name": "stdout",
          "output_type": "stream",
          "text": [
            "Found 2000 images belonging to 2 classes.\n"
          ]
        }
      ],
      "source": [
        "# SOLUTION\n",
        "train_data_gen = train_img_gen.flow_from_directory(batch_size=batch_size, directory=train_dir, target_size=(100, 100), class_mode='binary')"
      ]
    },
    {
      "cell_type": "markdown",
      "metadata": {
        "id": "dDlmUcxdCa27"
      },
      "source": [
        "**[2.5]** Now we can create the data generator for the testing set\n",
        "\n",
        "##### Task: create a data generator for the testing set"
      ]
    },
    {
      "cell_type": "code",
      "execution_count": null,
      "metadata": {
        "id": "DHNaXAUdCa28"
      },
      "outputs": [],
      "source": [
        "# Placeholder for student's code (1 line of code)\n",
        "# Task: create a data generator for the testing set"
      ]
    },
    {
      "cell_type": "code",
      "execution_count": null,
      "metadata": {
        "colab": {
          "base_uri": "https://localhost:8080/"
        },
        "id": "TslVuBC3Ca2-",
        "outputId": "86cc1da4-0e86-410c-d741-6c3aa173ed54"
      },
      "outputs": [
        {
          "name": "stdout",
          "output_type": "stream",
          "text": [
            "Found 1000 images belonging to 2 classes.\n"
          ]
        }
      ],
      "source": [
        "# SOLUTION\n",
        "test_data_gen = test_img_gen.flow_from_directory(batch_size=batch_size, directory=test_dir, target_size=(100, 100), class_mode='binary')"
      ]
    },
    {
      "cell_type": "markdown",
      "metadata": {
        "id": "IoBUxuQgCa3B"
      },
      "source": [
        "**[2.5]** Let's create 2 variables containing the number of images for each set. This will be useful for fitting the model \n",
        "\n",
        "##### Task: create 2 variables called 'total_train' and 'total_val' that contain the number of images for the training and testing sets"
      ]
    },
    {
      "cell_type": "code",
      "execution_count": null,
      "metadata": {},
      "outputs": [
        {
          "data": {
            "text/plain": [
              "{'cats': 0, 'dogs': 1}"
            ]
          },
          "execution_count": 23,
          "metadata": {},
          "output_type": "execute_result"
        }
      ],
      "source": [
        "test_data_gen.class_indices"
      ]
    },
    {
      "cell_type": "code",
      "execution_count": null,
      "metadata": {
        "id": "_J6XKgdUCa3B"
      },
      "outputs": [],
      "source": [
        "# Placeholder for student's code (2 lines of code)\n",
        "# Task: create 2 variables called 'total_train' and 'total_val' that contain the number of images for the training and testing sets"
      ]
    },
    {
      "cell_type": "code",
      "execution_count": null,
      "metadata": {
        "id": "a5YcuVVYCa3D"
      },
      "outputs": [],
      "source": [
        "# SOLUTION\n",
        "total_train = 2000\n",
        "total_val = 1000"
      ]
    },
    {
      "cell_type": "markdown",
      "metadata": {
        "id": "vdpudNYVCa3F"
      },
      "source": [
        "### 3.   Defining the Architecture of CNN"
      ]
    },
    {
      "cell_type": "markdown",
      "metadata": {
        "id": "MHWSMlkYCa3F"
      },
      "source": [
        "**[3.1]** First we need to import the [VGG16](https://www.tensorflow.org/api_docs/python/tf/keras/applications/VGG16) architecture"
      ]
    },
    {
      "cell_type": "code",
      "execution_count": null,
      "metadata": {
        "id": "YfedH9JyCa3G"
      },
      "outputs": [],
      "source": [
        "from tensorflow.keras.applications import VGG16"
      ]
    },
    {
      "cell_type": "markdown",
      "metadata": {
        "id": "O-wnUOPJCa3H"
      },
      "source": [
        "**[3.2]** Let's specify the dimensions of the input images\n",
        "\n",
        "##### Task: create a tuple called input_shape that will contains the height, width and number of channels of the input images)"
      ]
    },
    {
      "cell_type": "code",
      "execution_count": null,
      "metadata": {
        "id": "DLrZ1266Ca3I"
      },
      "outputs": [],
      "source": [
        "# Placeholder for student's code (1 line of code)\n",
        "# Task: create a tuple called input_shape that will contains the height, width and number of channels of the input images)"
      ]
    },
    {
      "cell_type": "code",
      "execution_count": null,
      "metadata": {
        "id": "pMyKqghOCa3J"
      },
      "outputs": [],
      "source": [
        "# SOLUTION\n",
        "input_shape = (100, 100, 3)"
      ]
    },
    {
      "cell_type": "markdown",
      "metadata": {
        "id": "un7uZl7-Ca3L"
      },
      "source": [
        "**[3.3]** Then we will instantiate this model by specifying the input image dimensions, the pre-trained weights from ImageNet and will not include the top layers as we are using a dataset with 2 classes (ImageNet has 200 classes)."
      ]
    },
    {
      "cell_type": "code",
      "execution_count": null,
      "metadata": {
        "id": "YqgP4xN0qte4"
      },
      "outputs": [],
      "source": [
        "# Placeholder for student's code (1 line of code)\n",
        "# Task: Instantiate a pre-trained VGG16 model"
      ]
    },
    {
      "cell_type": "code",
      "execution_count": null,
      "metadata": {
        "colab": {
          "base_uri": "https://localhost:8080/"
        },
        "id": "oaj8aVGYCa3M",
        "outputId": "01dffe39-830a-4cb7-b10a-cd2abfb6971b"
      },
      "outputs": [],
      "source": [
        "base_model = VGG16(input_shape=input_shape, weights='imagenet', include_top=False)"
      ]
    },
    {
      "cell_type": "markdown",
      "metadata": {
        "id": "iZbUOWnuCa3z"
      },
      "source": [
        "**[3.4]** Now let's set a threshold that will define which layer we will train onward.\n",
        "\n",
        "###### Task: Create a variable called frozen_layers with the value 15"
      ]
    },
    {
      "cell_type": "code",
      "execution_count": null,
      "metadata": {
        "id": "HNHfAvfgCa3z"
      },
      "outputs": [],
      "source": [
        "# Placeholder for student's code (1 line of code)\n",
        "# Task: Create a variable called frozen_layers with the value 15"
      ]
    },
    {
      "cell_type": "code",
      "execution_count": null,
      "metadata": {
        "id": "KW5AaoHgCa32"
      },
      "outputs": [],
      "source": [
        "# SOLUTION\n",
        "frozen_layers = 15"
      ]
    },
    {
      "cell_type": "markdown",
      "metadata": {
        "id": "FAI1A6rLCa34"
      },
      "source": [
        "**[3.5]** We will set all the [layers](https://www.tensorflow.org/api_docs/python/tf/keras/layers) up to the value in frozen_layers as non-trainable. By default all layers are trainable so we just need to \"freeze\" the layers we want.\n",
        "\n",
        "###### Task: Create a for loop that will iterate through the layers of base_model up to the value of frozen_layers and set each of them as non-trainable"
      ]
    },
    {
      "cell_type": "code",
      "execution_count": null,
      "metadata": {
        "id": "edC49nk1Ca34"
      },
      "outputs": [],
      "source": [
        "# Placeholder for student's code (2 lines of code)\n",
        "# Task: Create a for loop that will iterate through the layers of base_model up to the value of frozen_layers and set each of them as non-trainable"
      ]
    },
    {
      "cell_type": "code",
      "execution_count": null,
      "metadata": {
        "id": "JbFVlcuhCa36"
      },
      "outputs": [],
      "source": [
        "# SOLUTION\n",
        "for layer in base_model.layers[:frozen_layers]:\n",
        "    layer.trainable = False"
      ]
    },
    {
      "cell_type": "markdown",
      "metadata": {
        "id": "L2JeBPWkCa38"
      },
      "source": [
        "**[3.6]** Let's have a look at this model by displaying its summary with [.summary()](https://www.tensorflow.org/api_docs/python/tf/keras/Model#summary)\n",
        "\n",
        "##### Task: Print the summary of our model"
      ]
    },
    {
      "cell_type": "code",
      "execution_count": null,
      "metadata": {
        "id": "0Vntf8zfCa38"
      },
      "outputs": [],
      "source": [
        "# Placeholder for student's code (1 line of code)\n",
        "##### Task: Print the summary of our model"
      ]
    },
    {
      "cell_type": "code",
      "execution_count": null,
      "metadata": {
        "colab": {
          "base_uri": "https://localhost:8080/"
        },
        "id": "c5qV70k_Ca3-",
        "outputId": "eeeb38ed-f282-4006-ceac-1359f2c0718a"
      },
      "outputs": [
        {
          "name": "stdout",
          "output_type": "stream",
          "text": [
            "Model: \"vgg16\"\n",
            "_________________________________________________________________\n",
            " Layer (type)                Output Shape              Param #   \n",
            "=================================================================\n",
            " input_1 (InputLayer)        [(None, 100, 100, 3)]     0         \n",
            "                                                                 \n",
            " block1_conv1 (Conv2D)       (None, 100, 100, 64)      1792      \n",
            "                                                                 \n",
            " block1_conv2 (Conv2D)       (None, 100, 100, 64)      36928     \n",
            "                                                                 \n",
            " block1_pool (MaxPooling2D)  (None, 50, 50, 64)        0         \n",
            "                                                                 \n",
            " block2_conv1 (Conv2D)       (None, 50, 50, 128)       73856     \n",
            "                                                                 \n",
            " block2_conv2 (Conv2D)       (None, 50, 50, 128)       147584    \n",
            "                                                                 \n",
            " block2_pool (MaxPooling2D)  (None, 25, 25, 128)       0         \n",
            "                                                                 \n",
            " block3_conv1 (Conv2D)       (None, 25, 25, 256)       295168    \n",
            "                                                                 \n",
            " block3_conv2 (Conv2D)       (None, 25, 25, 256)       590080    \n",
            "                                                                 \n",
            " block3_conv3 (Conv2D)       (None, 25, 25, 256)       590080    \n",
            "                                                                 \n",
            " block3_pool (MaxPooling2D)  (None, 12, 12, 256)       0         \n",
            "                                                                 \n",
            " block4_conv1 (Conv2D)       (None, 12, 12, 512)       1180160   \n",
            "                                                                 \n",
            " block4_conv2 (Conv2D)       (None, 12, 12, 512)       2359808   \n",
            "                                                                 \n",
            " block4_conv3 (Conv2D)       (None, 12, 12, 512)       2359808   \n",
            "                                                                 \n",
            " block4_pool (MaxPooling2D)  (None, 6, 6, 512)         0         \n",
            "                                                                 \n",
            " block5_conv1 (Conv2D)       (None, 6, 6, 512)         2359808   \n",
            "                                                                 \n",
            " block5_conv2 (Conv2D)       (None, 6, 6, 512)         2359808   \n",
            "                                                                 \n",
            " block5_conv3 (Conv2D)       (None, 6, 6, 512)         2359808   \n",
            "                                                                 \n",
            " block5_pool (MaxPooling2D)  (None, 3, 3, 512)         0         \n",
            "                                                                 \n",
            "=================================================================\n",
            "Total params: 14,714,688\n",
            "Trainable params: 7,079,424\n",
            "Non-trainable params: 7,635,264\n",
            "_________________________________________________________________\n"
          ]
        }
      ],
      "source": [
        "# SOLUTION\n",
        "base_model.summary()"
      ]
    },
    {
      "cell_type": "markdown",
      "metadata": {
        "id": "mMe9uB4DCa4B"
      },
      "source": [
        "**[3.7]** Let's add 2 fully connected layers to this VGG16 model.\n",
        "\n",
        "##### Task: Create a new model by combining the VGG16 model to 2 fully connnected layers (the first one will have 500 units)"
      ]
    },
    {
      "cell_type": "code",
      "execution_count": null,
      "metadata": {
        "id": "ZcU9la0yCa4B"
      },
      "outputs": [],
      "source": [
        "# Placeholder for student's code (5 lines of code)\n",
        "# Task: Create a new model by combining the VGG16 model to 2 fully connnected layers (the first one will have 500 units)"
      ]
    },
    {
      "cell_type": "code",
      "execution_count": null,
      "metadata": {
        "id": "4hpPlSMiCa4D"
      },
      "outputs": [],
      "source": [
        "# SOLUTION\n",
        "from tensorflow.keras.layers import Flatten, Dense\n",
        "\n",
        "tuned_model = tf.keras.Sequential([\n",
        "    base_model,\n",
        "    Flatten(),\n",
        "    Dense(500, activation='relu'),\n",
        "    Dense(1, activation='sigmoid')\n",
        "])"
      ]
    },
    {
      "cell_type": "markdown",
      "metadata": {
        "id": "mXMN04reCa4F"
      },
      "source": [
        "**[3.8]** We will now instantiate the [Adam()](https://www.tensorflow.org/api_docs/python/tf/keras/optimizers/Adam) class. We will specify the learning rate as 0.000001.\n",
        "\n",
        "##### Task: Create an Adam optimiser"
      ]
    },
    {
      "cell_type": "code",
      "execution_count": null,
      "metadata": {
        "id": "3KbFQfqnCa4F"
      },
      "outputs": [],
      "source": [
        "# Placeholder for student's code (1 lines of code)\n",
        "# Task: Create an Adam optimiser"
      ]
    },
    {
      "cell_type": "code",
      "execution_count": null,
      "metadata": {
        "id": "th8tj4txCa4J"
      },
      "outputs": [],
      "source": [
        "# SOLUTION\n",
        "optimizer = tf.keras.optimizers.Adam(0.00001)"
      ]
    },
    {
      "cell_type": "markdown",
      "metadata": {
        "id": "P5azxN6tCa4K"
      },
      "source": [
        "**[3.9]** Now that we have a defined architecture, we need to configure the learning process using the [.compile()](https://www.tensorflow.org/api_docs/python/tf/keras/Model#methods_2) method and specify the loss function, optimizer to be used and the metrics to be displayed. \n",
        "\n",
        "##### Task: Define the relevant loss function and metrics for the compile method"
      ]
    },
    {
      "cell_type": "code",
      "execution_count": null,
      "metadata": {
        "id": "RZbZzemyCa4K"
      },
      "outputs": [],
      "source": [
        "# Placeholder for student's code (1 lines of code)\n",
        "# Task: Define the relevant loss function and metrics for the compile method"
      ]
    },
    {
      "cell_type": "code",
      "execution_count": null,
      "metadata": {
        "id": "cRdMfF0sCa4M"
      },
      "outputs": [],
      "source": [
        "# SOLUTION\n",
        "tuned_model.compile(loss='binary_crossentropy', optimizer=optimizer, metrics=['accuracy'])"
      ]
    },
    {
      "cell_type": "markdown",
      "metadata": {
        "id": "6KkBBTdWCa4N"
      },
      "source": [
        "**[3.10]** Let's have a look at this model by displaying its summary with [.summary()](https://www.tensorflow.org/api_docs/python/tf/keras/Model#summary)\n",
        "\n",
        "##### Task: Print the summary of our model"
      ]
    },
    {
      "cell_type": "code",
      "execution_count": null,
      "metadata": {
        "id": "_JWyFvYtCa4N"
      },
      "outputs": [],
      "source": [
        "# Placeholder for student's code (1 line of code)\n",
        "##### Task: Print the summary of our model"
      ]
    },
    {
      "cell_type": "code",
      "execution_count": null,
      "metadata": {
        "colab": {
          "base_uri": "https://localhost:8080/"
        },
        "id": "WGzFnIvFCa4Q",
        "outputId": "1ca9de7a-0a8c-4c43-c81b-e022b1b809c9"
      },
      "outputs": [
        {
          "name": "stdout",
          "output_type": "stream",
          "text": [
            "Model: \"sequential\"\n",
            "_________________________________________________________________\n",
            " Layer (type)                Output Shape              Param #   \n",
            "=================================================================\n",
            " vgg16 (Functional)          (None, 3, 3, 512)         14714688  \n",
            "                                                                 \n",
            " flatten (Flatten)           (None, 4608)              0         \n",
            "                                                                 \n",
            " dense (Dense)               (None, 500)               2304500   \n",
            "                                                                 \n",
            " dense_1 (Dense)             (None, 1)                 501       \n",
            "                                                                 \n",
            "=================================================================\n",
            "Total params: 17,019,689\n",
            "Trainable params: 9,384,425\n",
            "Non-trainable params: 7,635,264\n",
            "_________________________________________________________________\n"
          ]
        }
      ],
      "source": [
        "# SOLUTION\n",
        "tuned_model.summary()"
      ]
    },
    {
      "cell_type": "markdown",
      "metadata": {
        "id": "I7aycMPUCa3j"
      },
      "source": [
        "### 4. Training and Evaluation of the Model"
      ]
    },
    {
      "cell_type": "markdown",
      "metadata": {
        "id": "2kTGe9KHfAmR"
      },
      "source": [
        "**[4.1]** Import EarlyStopping, ReduceLROnPlateau, ModelCheckpoint modules from tensorflow.keras.callbacks"
      ]
    },
    {
      "cell_type": "code",
      "execution_count": null,
      "metadata": {
        "id": "UOO3aQ0wf2Pm"
      },
      "outputs": [],
      "source": [
        "# Placeholder for student's code (1 line of code)\n",
        "# Task: Import EarlyStopping, ReduceLROnPlateau, ModelCheckpoint modules from tensorflow.keras.callbacks"
      ]
    },
    {
      "cell_type": "code",
      "execution_count": null,
      "metadata": {
        "id": "Wp0SBCCGfAu7"
      },
      "outputs": [],
      "source": [
        "# Solution\n",
        "from tensorflow.keras.callbacks import EarlyStopping, ReduceLROnPlateau, ModelCheckpoint"
      ]
    },
    {
      "cell_type": "markdown",
      "metadata": {
        "id": "mJ4-bYBVf96M"
      },
      "source": [
        "**[4.2]** Instantiate an EarlyStopping callback that will stop the learning process if the model doesn't improve after 5 epochs "
      ]
    },
    {
      "cell_type": "code",
      "execution_count": null,
      "metadata": {
        "id": "cC2nIQZTf9_v"
      },
      "outputs": [],
      "source": [
        "# Placeholder for student's code (1 line of code)\n",
        "# Task: Instantiate an EarlyStopping callback that will stop the learning process if the model doesn't improve after 5 epochs "
      ]
    },
    {
      "cell_type": "code",
      "execution_count": null,
      "metadata": {
        "id": "pAzsatD-f-IP"
      },
      "outputs": [],
      "source": [
        "# Solution\n",
        "early_stop_cb = tf.keras.callbacks.EarlyStopping(monitor='loss', patience=5)"
      ]
    },
    {
      "cell_type": "markdown",
      "metadata": {
        "id": "46jYZZ7rf_oW"
      },
      "source": [
        "**[4.3]** Instantiate a ReduceLROnPlateau callback that will decrease the learning rate by a factor of 0.2 if the model doesn't improve after 3 epochs "
      ]
    },
    {
      "cell_type": "code",
      "execution_count": null,
      "metadata": {
        "id": "RYyN53bSf_uT"
      },
      "outputs": [],
      "source": [
        "# Placeholder for student's code (1 line of code)\n",
        "# Task: Instantiate a ReduceLROnPlateau callback that will decrease the learning rate by a factor of 0.2 if the model doesn't improve after 3 epochs"
      ]
    },
    {
      "cell_type": "code",
      "execution_count": null,
      "metadata": {
        "id": "Pm6zB5Pof_xG"
      },
      "outputs": [],
      "source": [
        "# Solution\n",
        "reduce_lr = ReduceLROnPlateau(monitor='val_loss', factor=0.2, patience=3, min_lr=0.0000001)"
      ]
    },
    {
      "cell_type": "markdown",
      "metadata": {
        "id": "GeOuubbpgNyV"
      },
      "source": [
        "**[4.4]** Create a variable called `checkpoint_filepath` with the value './vgg_checkpoint'"
      ]
    },
    {
      "cell_type": "code",
      "execution_count": null,
      "metadata": {
        "id": "dxIePXSpgOAY"
      },
      "outputs": [],
      "source": [
        "# Placeholder for student's code (1 line of code)\n",
        "# Task: Create a variable called checkpoint_filepath with the value './vgg_checkpoint'"
      ]
    },
    {
      "cell_type": "code",
      "execution_count": null,
      "metadata": {
        "id": "1eo1TunvgOGL"
      },
      "outputs": [
        {
          "name": "stdout",
          "output_type": "stream",
          "text": [
            "/home/azureuser/cloudfiles/data/model_checkpoint/vgg_checkpoint\n"
          ]
        }
      ],
      "source": [
        "# Solution\n",
        "checkpoint_filepath = os.path.expanduser('~/cloudfiles/data/model_checkpoint/vgg_checkpoint')\n",
        "print(checkpoint_filepath)"
      ]
    },
    {
      "cell_type": "markdown",
      "metadata": {
        "id": "OpENmAGLgHxe"
      },
      "source": [
        "**[4.5]** Instantiate a ModelCheckpoint callback that will save the best model weights during the learning process"
      ]
    },
    {
      "cell_type": "code",
      "execution_count": null,
      "metadata": {
        "id": "UlB-itv6gH8H"
      },
      "outputs": [],
      "source": [
        "# Placeholder for student's code (1 line of code)\n",
        "# Task: Instantiate a ModelCheckpoint callback that will save the best model weights during the learning process"
      ]
    },
    {
      "cell_type": "code",
      "execution_count": null,
      "metadata": {
        "id": "cIFLL4MlgH_j"
      },
      "outputs": [],
      "source": [
        "# Solution\n",
        "model_checkpoint_cb = ModelCheckpoint(\n",
        "    filepath=checkpoint_filepath,\n",
        "    save_weights_only=True,\n",
        "    monitor='val_accuracy',\n",
        "    mode='max',\n",
        "    save_best_only=True)"
      ]
    },
    {
      "cell_type": "markdown",
      "metadata": {
        "id": "1e01ZLXwCa3k"
      },
      "source": [
        "**[4.6]** Let's train our model. You can achieve this by calling the [.fit_generator()](https://www.tensorflow.org/api_docs/python/tf/keras/Model#fit_generator) method. This will take as input the data generators we created earlier. We need to also define the number of steps per epoch whoch corresponds the number of batches. We will run it for 5 epochs (the training will take some time).\n",
        "\n",
        "##### Task: Train the CNN model for 50 epochs"
      ]
    },
    {
      "cell_type": "code",
      "execution_count": null,
      "metadata": {
        "id": "k1ageTUmCa3k"
      },
      "outputs": [],
      "source": [
        "# Placeholder for student's code (1 line of code)\n",
        "# Task: Train the CNN model for 50 epochs"
      ]
    },
    {
      "cell_type": "code",
      "execution_count": 56,
      "metadata": {
        "colab": {
          "base_uri": "https://localhost:8080/"
        },
        "id": "nz9iyXr5Ca3m",
        "outputId": "8bba06ac-7a3a-403c-a57d-eeb222ad7d92",
        "scrolled": false
      },
      "outputs": [
        {
          "name": "stderr",
          "output_type": "stream",
          "text": [
            "<ipython-input-56-07d7bd374a47>:2: UserWarning: `Model.fit_generator` is deprecated and will be removed in a future version. Please use `Model.fit`, which supports generators.\n",
            "  history = tuned_model.fit_generator(\n",
            "2022/04/12 13:18:16 INFO mlflow.utils.autologging_utils: Created MLflow autologging run with ID 'a86034b2-a0f0-492d-a5b8-b51c8e4e160d', which will track hyperparameters, performance metrics, model artifacts, and lineage information for the current tensorflow workflow\n"
          ]
        },
        {
          "name": "stdout",
          "output_type": "stream",
          "text": [
            "Epoch 1/50\n",
            "100/100 [==============================] - 39s 162ms/step - loss: 0.5555 - accuracy: 0.7145 - val_loss: 0.4326 - val_accuracy: 0.7890 - lr: 1.0000e-05\n",
            "Epoch 2/50\n",
            "100/100 [==============================] - 24s 245ms/step - loss: 0.3976 - accuracy: 0.8290 - val_loss: 0.3213 - val_accuracy: 0.8500 - lr: 1.0000e-05\n",
            "Epoch 3/50\n",
            "100/100 [==============================] - 30s 300ms/step - loss: 0.3429 - accuracy: 0.8490 - val_loss: 0.3245 - val_accuracy: 0.8550 - lr: 1.0000e-05\n",
            "Epoch 4/50\n",
            "100/100 [==============================] - 45s 456ms/step - loss: 0.3250 - accuracy: 0.8570 - val_loss: 0.2864 - val_accuracy: 0.8720 - lr: 1.0000e-05\n",
            "Epoch 5/50\n",
            "100/100 [==============================] - 18s 180ms/step - loss: 0.2863 - accuracy: 0.8840 - val_loss: 0.2795 - val_accuracy: 0.8740 - lr: 1.0000e-05\n",
            "Epoch 6/50\n",
            "100/100 [==============================] - 33s 327ms/step - loss: 0.2726 - accuracy: 0.8815 - val_loss: 0.2617 - val_accuracy: 0.8780 - lr: 1.0000e-05\n",
            "Epoch 7/50\n",
            "100/100 [==============================] - 23s 233ms/step - loss: 0.2649 - accuracy: 0.8860 - val_loss: 0.2719 - val_accuracy: 0.8910 - lr: 1.0000e-05\n",
            "Epoch 8/50\n",
            "100/100 [==============================] - 14s 144ms/step - loss: 0.2460 - accuracy: 0.8975 - val_loss: 0.2839 - val_accuracy: 0.8860 - lr: 1.0000e-05\n",
            "Epoch 9/50\n",
            "100/100 [==============================] - 18s 176ms/step - loss: 0.2383 - accuracy: 0.8985 - val_loss: 0.2557 - val_accuracy: 0.8960 - lr: 1.0000e-05\n",
            "Epoch 10/50\n",
            "100/100 [==============================] - 13s 131ms/step - loss: 0.2231 - accuracy: 0.9005 - val_loss: 0.2588 - val_accuracy: 0.8950 - lr: 1.0000e-05\n",
            "Epoch 11/50\n",
            "100/100 [==============================] - 19s 189ms/step - loss: 0.2107 - accuracy: 0.9145 - val_loss: 0.2352 - val_accuracy: 0.8980 - lr: 1.0000e-05\n",
            "Epoch 12/50\n",
            "100/100 [==============================] - 13s 133ms/step - loss: 0.2066 - accuracy: 0.9155 - val_loss: 0.2802 - val_accuracy: 0.8960 - lr: 1.0000e-05\n",
            "Epoch 13/50\n",
            "100/100 [==============================] - 14s 138ms/step - loss: 0.1952 - accuracy: 0.9200 - val_loss: 0.3030 - val_accuracy: 0.8830 - lr: 1.0000e-05\n",
            "Epoch 14/50\n",
            "100/100 [==============================] - 13s 135ms/step - loss: 0.2023 - accuracy: 0.9190 - val_loss: 0.2860 - val_accuracy: 0.8840 - lr: 1.0000e-05\n",
            "Epoch 15/50\n",
            "100/100 [==============================] - 25s 247ms/step - loss: 0.1606 - accuracy: 0.9380 - val_loss: 0.2343 - val_accuracy: 0.9040 - lr: 2.0000e-06\n",
            "Epoch 16/50\n",
            "100/100 [==============================] - 13s 127ms/step - loss: 0.1731 - accuracy: 0.9365 - val_loss: 0.2262 - val_accuracy: 0.9040 - lr: 2.0000e-06\n",
            "Epoch 17/50\n",
            " 75/100 [=====================>........] - ETA: 2s - loss: 0.1576 - accuracy: 0.9353"
          ]
        }
      ],
      "source": [
        "# SOLUTION\n",
        "history = tuned_model.fit_generator(\n",
        "    train_data_gen,\n",
        "    steps_per_epoch=total_train // batch_size,\n",
        "    epochs=50,\n",
        "    validation_data=test_data_gen,\n",
        "    validation_steps=total_val // batch_size,\n",
        "    callbacks=[early_stop_cb, reduce_lr, model_checkpoint_cb]\n",
        ")"
      ]
    },
    {
      "cell_type": "markdown",
      "metadata": {
        "id": "P4CgxmxeCa3q"
      },
      "source": [
        "### 5. Analysing the Results"
      ]
    },
    {
      "cell_type": "markdown",
      "metadata": {
        "id": "qS-xryC2Ca3q"
      },
      "source": [
        "**[5.1]** Let's plot the learning curve for accuracy score on the training and validation sets. We will use the [.plot()](https://matplotlib.org/3.1.1/api/_as_gen/matplotlib.pyplot.plot.html#matplotlib.pyplot.plot) method to create a line chart.\n",
        "\n",
        "##### Task: plot the accuracy for the training and validation set "
      ]
    },
    {
      "cell_type": "code",
      "execution_count": null,
      "metadata": {
        "id": "L4GHHNelCa3q"
      },
      "outputs": [],
      "source": [
        "# Placeholder for student's code (6 lines of code)\n",
        "# Task: plot the accuracy for the training and validation set "
      ]
    },
    {
      "cell_type": "code",
      "execution_count": null,
      "metadata": {
        "colab": {
          "base_uri": "https://localhost:8080/",
          "height": 279
        },
        "id": "ygPgB2hqCa3s",
        "outputId": "297d778a-ff92-4790-c496-d7f35afad562"
      },
      "outputs": [
        {
          "data": {
            "image/png": "[encoded data removed]",
            "text/plain": [
              "<Figure size 432x288 with 1 Axes>"
            ]
          },
          "metadata": {
            "needs_background": "light"
          },
          "output_type": "display_data"
        }
      ],
      "source": [
        "# SOLUTION\n",
        "import matplotlib.pyplot as plt\n",
        "\n",
        "plt.plot(history.history['accuracy'], label='training')\n",
        "plt.plot(history.history['val_accuracy'], label='validation')\n",
        "plt.ylabel('accuracy')\n",
        "plt.xlabel('Epoch')\n",
        "plt.show()"
      ]
    },
    {
      "cell_type": "markdown",
      "metadata": {
        "id": "91BgOsDnCa4W"
      },
      "source": [
        "By unfreezing the last convolutional layers of the pre-trained VGG16 and training the model for 50 more epochs, we achieved even better accuracy. We have now 0.89 on the testing set.\n",
        "\n",
        "### Discussion: What are the reasons why fine-tuning helped to improve the accuracy score."
      ]
    }
  ],
  "metadata": {
    "accelerator": "GPU",
    "colab": {
      "collapsed_sections": [],
      "name": "DL_Lab4_Exercise2_Solutions.ipynb",
      "provenance": []
    },
    "kernelspec": {
      "display_name": "Python 3",
      "language": "python",
      "name": "python3"
    },
    "language_info": {
      "codemirror_mode": {
        "name": "ipython",
        "version": 3
      },
      "file_extension": ".py",
      "mimetype": "text/x-python",
      "name": "python",
      "nbconvert_exporter": "python",
      "pygments_lexer": "ipython3",
      "version": "3.8.5"
    }
  },
  "nbformat": 4,
  "nbformat_minor": 0
}
