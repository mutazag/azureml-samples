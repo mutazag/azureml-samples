{
 "cells": [
  {
   "cell_type": "code",
   "execution_count": 1,
   "metadata": {},
   "outputs": [],
   "source": [
    "from azureml.core import Workspace\n",
    "ws = Workspace.from_config()"
   ]
  },
  {
   "cell_type": "code",
   "execution_count": 2,
   "metadata": {},
   "outputs": [
    {
     "name": "stdout",
     "output_type": "stream",
     "text": [
      "Succeeded\n",
      "AmlCompute wait for completion finished\n",
      "\n",
      "Minimum number of nodes requested have been provisioned\n"
     ]
    }
   ],
   "source": [
    "from azureml.core.compute import ComputeTarget, AmlCompute\n",
    "from azureml.exceptions import ComputeTargetException\n",
    "\n",
    "cluster_name = 'mutaz-gpu'\n",
    "cluster_name = 'gpucluster'\n",
    "\n",
    "try:\n",
    "    compute_target = ComputeTarget(workspace=ws, name=cluster_name)\n",
    "    compute_target.wait_for_completion(show_output=True)\n",
    "except ComputeTargetException as e:\n",
    "    print(e)"
   ]
  },
  {
   "cell_type": "code",
   "execution_count": 3,
   "metadata": {},
   "outputs": [],
   "source": [
    "from azureml.core import Dataset\n",
    "input_dataset = Dataset.get_by_name(ws, name='cats_dogs')"
   ]
  },
  {
   "cell_type": "code",
   "execution_count": 4,
   "metadata": {},
   "outputs": [],
   "source": [
    "# mnt_point = input_dataset.mount('/tmp/cats_dogs')\n",
    "# mnt_point.start()"
   ]
  },
  {
   "cell_type": "code",
   "execution_count": 5,
   "metadata": {},
   "outputs": [],
   "source": [
    "from azureml.core import ScriptRunConfig\n",
    "from azureml.core import Environment\n",
    "\n",
    "env = Environment.get(workspace=ws, name='AzureML-tensorflow-2.4-ubuntu18.04-py37-cuda11-gpu')\n",
    "#  name='AzureML-tensorflow-2.7-ubuntu20.04-py38-cuda11-gpu') #, version=9)\n",
    "train_runconfig = ScriptRunConfig(\n",
    "    source_directory=\"./src\", \n",
    "    script='train.py', \n",
    "    arguments=['--input_dataset', input_dataset.as_mount()], \n",
    "    compute_target=compute_target,\n",
    "    environment=env)"
   ]
  },
  {
   "cell_type": "code",
   "execution_count": 6,
   "metadata": {},
   "outputs": [],
   "source": [
    "from azureml.core import Experiment\n",
    "#print([exp for exp in ws.experiments])\n",
    "exp = Experiment(ws, 'cats-and-dogs')\n",
    "run = exp.submit(train_runconfig)"
   ]
  },
  {
   "cell_type": "code",
   "execution_count": 7,
   "metadata": {},
   "outputs": [
    {
     "name": "stdout",
     "output_type": "stream",
     "text": [
      "yellow_hat_4hqqswpm\n"
     ]
    }
   ],
   "source": [
    "print(run.display_name)"
   ]
  },
  {
   "cell_type": "code",
   "execution_count": 8,
   "metadata": {},
   "outputs": [],
   "source": [
    "#run.wait_for_completion(show_output=True)"
   ]
  },
  {
   "cell_type": "code",
   "execution_count": null,
   "metadata": {},
   "outputs": [],
   "source": []
  }
 ],
 "metadata": {
  "interpreter": {
   "hash": "5826022c13cf670f25f82c54601002af42321e6e77593e3891ed52ffe2de205c"
  },
  "kernelspec": {
   "display_name": "Python 3.8.1 ('azureml_py38_tensorflow')",
   "language": "python",
   "name": "python3"
  },
  "language_info": {
   "codemirror_mode": {
    "name": "ipython",
    "version": 3
   },
   "file_extension": ".py",
   "mimetype": "text/x-python",
   "name": "python",
   "nbconvert_exporter": "python",
   "pygments_lexer": "ipython3",
   "version": "3.8.1"
  },
  "orig_nbformat": 4
 },
 "nbformat": 4,
 "nbformat_minor": 2
}
