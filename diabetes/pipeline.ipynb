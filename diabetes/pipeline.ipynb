{
 "cells": [
  {
   "cell_type": "code",
   "execution_count": 21,
   "metadata": {},
   "outputs": [],
   "source": [
    "from azureml.core import Workspace"
   ]
  },
  {
   "cell_type": "code",
   "execution_count": 22,
   "metadata": {},
   "outputs": [],
   "source": [
    "ws = Workspace.from_config()"
   ]
  },
  {
   "cell_type": "code",
   "execution_count": 30,
   "metadata": {},
   "outputs": [],
   "source": [
    "from azureml.core import Environment\n",
    "# env = Environment.get(workspace=ws, name='mag-python-mlflow-basic-cpu')\n",
    "env = Environment.get(workspace=ws, name='AzureML-lightgbm-3.2-ubuntu18.04-py37-cpu')"
   ]
  },
  {
   "cell_type": "code",
   "execution_count": 66,
   "metadata": {},
   "outputs": [
    {
     "name": "stdout",
     "output_type": "stream",
     "text": [
      "\n",
      "Running\n"
     ]
    }
   ],
   "source": [
    "from azureml.core.compute import ComputeTarget, AmlCompute\n",
    "from azureml.exceptions import ComputeTargetException\n",
    "\n",
    "cluster_name = 'cpucluster'\n",
    "cluster_name = 'magazureml02'\n",
    "\n",
    "try:\n",
    "    compute_target = ComputeTarget(workspace=ws, name=cluster_name)\n",
    "    compute_target.wait_for_completion(show_output=True)\n",
    "except ComputeTargetException as e:\n",
    "    print(e)"
   ]
  },
  {
   "cell_type": "code",
   "execution_count": 91,
   "metadata": {},
   "outputs": [],
   "source": [
    "from azureml.core import ScriptRunConfig\n",
    "\n",
    "src = ScriptRunConfig(source_directory='.\\src',\n",
    "                      script='train.py',\n",
    "                      arguments=['--kernel', 'linear', '--penalty', 1.0],\n",
    "                      compute_target=compute_target,\n",
    "                      environment=env)"
   ]
  },
  {
   "cell_type": "code",
   "execution_count": 92,
   "metadata": {},
   "outputs": [],
   "source": [
    "from azureml.core import Experiment\n",
    "\n",
    "# run = Experiment(ws,'diabetes-experiment').submit(src)\n",
    "# run.wait_for_completion(show_output=True)"
   ]
  },
  {
   "cell_type": "code",
   "execution_count": 93,
   "metadata": {},
   "outputs": [],
   "source": [
    "from azureml.data import OutputFileDatasetConfig\n",
    "from azureml.core.compute import AmlCompute\n",
    "from azureml.core.compute_target import ComputeTargetException\n",
    "from azureml.pipeline.steps import PythonScriptStep\n",
    "from azureml.pipeline.core import Pipeline"
   ]
  },
  {
   "cell_type": "code",
   "execution_count": 94,
   "metadata": {},
   "outputs": [],
   "source": [
    "from azureml.core import Dataset\n",
    "input_dataset = Dataset.get_by_name(ws, name='diabetes')\n"
   ]
  },
  {
   "cell_type": "code",
   "execution_count": 98,
   "metadata": {},
   "outputs": [],
   "source": [
    "from azureml.core import ScriptRunConfig\n",
    "from azureml.core import Environment\n",
    "\n",
    "## env created using cli v2 : https://github.com/mutazag/aml/blob/main/estimate_pi/sh_createenv.sh \n",
    "env = Environment.get(workspace=ws, name='mag-python-mlflow-basic-cpu')\n",
    "# env = Environment.get(workspace=ws, name='AzureML-lightgbm-3.2-ubuntu18.04-py37-cpu')\n",
    "\n",
    "train_runconfig = ScriptRunConfig(source_directory=\"./src\", environment=env)"
   ]
  },
  {
   "cell_type": "code",
   "execution_count": 105,
   "metadata": {},
   "outputs": [],
   "source": [
    "script_folder = \"./src\"\n",
    "\n",
    "train_step = PythonScriptStep(\n",
    "    name=\"train sklearn regression\",\n",
    "    source_directory=script_folder,\n",
    "    script_name='train.py',\n",
    "    arguments=[\n",
    "        '--kernel', 'linear', \n",
    "        '--penalty', 1.0,\n",
    "        '--train_dataset', input_dataset.as_named_input('train'),\n",
    "        '--dataset_download', input_dataset.to_parquet_files().as_named_input('dataset_download').as_download()],\n",
    "    inputs=[input_dataset.to_parquet_files().as_named_input('input_dataset').as_download()],\n",
    "    compute_target=compute_target,\n",
    "    allow_reuse=True,\n",
    "    runconfig=train_runconfig.run_config\n",
    "\n",
    ")\n"
   ]
  },
  {
   "cell_type": "code",
   "execution_count": 106,
   "metadata": {},
   "outputs": [
    {
     "name": "stdout",
     "output_type": "stream",
     "text": [
      "Created step train sklearn regression [e34ba00d][30fab925-9437-4f3b-bceb-6dbfc6da91bf], (This step will run and generate new outputs)\n",
      "Submitted PipelineRun 61d1d87e-11a7-4e67-a154-126a37603eb8\n",
      "Link to Azure Machine Learning Portal: https://ml.azure.com/runs/61d1d87e-11a7-4e67-a154-126a37603eb8?wsid=/subscriptions/907c8efc-c2c8-4c49-a4e1-aeb880e10c88/resourcegroups/azureml/workspaces/magazureml&tid=72f988bf-86f1-41af-91ab-2d7cd011db47\n"
     ]
    }
   ],
   "source": [
    "pipeline = Pipeline(ws, steps=[train_step])\n",
    "run = Experiment(ws,'diabetes-experiment').submit(pipeline)"
   ]
  },
  {
   "cell_type": "code",
   "execution_count": null,
   "metadata": {},
   "outputs": [],
   "source": []
  }
 ],
 "metadata": {
  "interpreter": {
   "hash": "cbc1630f6ac27d00c9f4ea5ff59d07a3d2920d2fb3e683b05679c37215caa53f"
  },
  "kernelspec": {
   "display_name": "Python 3.7.9 64-bit",
   "language": "python",
   "name": "python3"
  },
  "language_info": {
   "codemirror_mode": {
    "name": "ipython",
    "version": 3
   },
   "file_extension": ".py",
   "mimetype": "text/x-python",
   "name": "python",
   "nbconvert_exporter": "python",
   "pygments_lexer": "ipython3",
   "version": "3.7.9"
  },
  "orig_nbformat": 4
 },
 "nbformat": 4,
 "nbformat_minor": 2
}
